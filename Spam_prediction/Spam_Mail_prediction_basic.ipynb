{
 "cells": [
  {
   "cell_type": "code",
   "execution_count": null,
   "id": "c0ca98fb",
   "metadata": {},
   "outputs": [],
   "source": [
    "pip install spacy"
   ]
  },
  {
   "cell_type": "code",
   "execution_count": null,
   "id": "d02b555b",
   "metadata": {},
   "outputs": [],
   "source": [
    "import spacy\n",
    "nlp=spacy.load(\"en_core_web_sm\")\n",
    "import pandas as pd\n",
    "import numpy as np\n",
    "import matplotlib.pyplot as plt"
   ]
  },
  {
   "cell_type": "code",
   "execution_count": null,
   "id": "dc2f2d20",
   "metadata": {},
   "outputs": [],
   "source": [
    "df=pd.read_csv(\"Downloads/archive-2/enronSpamSubset.csv\")\n",
    "df=df.iloc[:,2:]"
   ]
  },
  {
   "cell_type": "code",
   "execution_count": null,
   "id": "70f821c8",
   "metadata": {},
   "outputs": [],
   "source": [
    "df[\"Text_vec\"]=df[\"Body\"].apply(lambda x: nlp(x).vector)"
   ]
  },
  {
   "cell_type": "code",
   "execution_count": null,
   "id": "b44dc8b7",
   "metadata": {},
   "outputs": [],
   "source": [
    "from sklearn.model_selection import train_test_split\n",
    "x_train,x_test,y_train,y_test=train_test_split(c.Text_vec.values,c.Label,test_size=0.2,random_state=2022)"
   ]
  },
  {
   "cell_type": "code",
   "execution_count": null,
   "id": "91eefa67",
   "metadata": {},
   "outputs": [],
   "source": [
    "x_train_2d=np.stack(x_train)\n",
    "x_test_2d=np.stack(x_test)\n",
    "\n",
    "from sklearn.preprocessing import MinMaxScaler\n",
    "\n",
    "\n",
    "mm=MinMaxScaler()\n",
    "\n",
    "\n",
    "x_train_2d_sc=mm.fit_transform(x_train_2d)\n",
    "x_test_2d_sc=mm.transform(x_test_2d)\n",
    "\n",
    "\n",
    "from sklearn.naive_bayes import MultinomialNB\n",
    "\n",
    "model=MultinomialNB()\n",
    "model.fit(x_train_2d_sc,y_train)\n"
   ]
  },
  {
   "cell_type": "code",
   "execution_count": null,
   "id": "0185ed64",
   "metadata": {},
   "outputs": [],
   "source": [
    "model.score(x_test_2d_sc,y_test)"
   ]
  },
  {
   "cell_type": "code",
   "execution_count": null,
   "id": "8e0b06b1",
   "metadata": {},
   "outputs": [],
   "source": [
    "#save the model\n",
    "import pickle\n",
    "with open (\"model_pickle\",\"wb\") as f:\n",
    "    pickle.dump(model,f)\n",
    "    "
   ]
  },
  {
   "cell_type": "code",
   "execution_count": null,
   "id": "28515fdf",
   "metadata": {},
   "outputs": [],
   "source": [
    "#load the model\n",
    "with open (\"model_pickle\",\"rb\") as f:\n",
    "    model=pickle.load(f)"
   ]
  },
  {
   "cell_type": "code",
   "execution_count": null,
   "id": "de567d18",
   "metadata": {},
   "outputs": [],
   "source": [
    "c=df[\"Body\"][0]\n",
    "print(type(c))\n",
    "c"
   ]
  },
  {
   "cell_type": "code",
   "execution_count": null,
   "id": "53425dd0",
   "metadata": {},
   "outputs": [],
   "source": [
    "c= nlp(c).vector\n",
    "model.predict([c])"
   ]
  }
 ],
 "metadata": {
  "kernelspec": {
   "display_name": "Python 3 (ipykernel)",
   "language": "python",
   "name": "python3"
  },
  "language_info": {
   "codemirror_mode": {
    "name": "ipython",
    "version": 3
   },
   "file_extension": ".py",
   "mimetype": "text/x-python",
   "name": "python",
   "nbconvert_exporter": "python",
   "pygments_lexer": "ipython3",
   "version": "3.9.7"
  }
 },
 "nbformat": 4,
 "nbformat_minor": 5
}
